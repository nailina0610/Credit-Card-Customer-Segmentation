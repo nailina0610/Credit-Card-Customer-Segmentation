{
 "cells": [
  {
   "cell_type": "markdown",
   "metadata": {},
   "source": [
    "# Perkenalan"
   ]
  },
  {
   "cell_type": "markdown",
   "metadata": {},
   "source": [
    "Nama : Nailina Farah\n",
    "\n",
    "Batch : FTDS_RMT_28\n",
    "\n",
    "Dataset : credit-card-information (FROM 'ftds-hacktiv8-project.phase1_ftds_028_rmt.credit-card-information')"
   ]
  },
  {
   "cell_type": "markdown",
   "metadata": {},
   "source": [
    "# Model Inference"
   ]
  },
  {
   "cell_type": "code",
   "execution_count": 1,
   "metadata": {},
   "outputs": [],
   "source": [
    "# Import Libaries\n",
    "import pickle\n",
    "import json\n",
    "import pandas as pd"
   ]
  },
  {
   "cell_type": "markdown",
   "metadata": {},
   "source": [
    "# Load Model\n",
    "> Load model yang telah dibuat pada notebook berbeda"
   ]
  },
  {
   "cell_type": "code",
   "execution_count": 2,
   "metadata": {},
   "outputs": [],
   "source": [
    "# Load all models dari perhitungan sebelumnya\n",
    "\n",
    "with open('model.pkl', 'rb') as  file_1: \n",
    "  model = pickle.load(file_1)\n",
    "\n",
    "with open('scaler.pkl', 'rb') as file_2:\n",
    "  scaler = pickle.load(file_2)\n",
    "\n",
    "with open('pca.pkl', 'rb') as file_3:\n",
    "  pca = pickle.load(file_3)\n",
    "\n",
    "with open('num_col.txt', 'r') as file_4:\n",
    "  num_col = json.load(file_4)\n",
    "\n",
    "with open('cat_col.txt', 'r') as file_5:\n",
    "  cat_col = json.load(file_5)\n",
    "\n",
    "with open('num_cols_nonmulti.txt', 'r') as file_6:\n",
    "  num_cols_nonmulti = json.load(file_6)"
   ]
  },
  {
   "cell_type": "markdown",
   "metadata": {},
   "source": [
    "# Create Data Inference\n",
    "> Membuat data baru untuk mencoba model yang telah dibuat"
   ]
  },
  {
   "cell_type": "markdown",
   "metadata": {},
   "source": [
    "Menginput value dari kolom-kolom pada data_inf"
   ]
  },
  {
   "cell_type": "code",
   "execution_count": 3,
   "metadata": {},
   "outputs": [
    {
     "data": {
      "text/html": [
       "<div>\n",
       "<style scoped>\n",
       "    .dataframe tbody tr th:only-of-type {\n",
       "        vertical-align: middle;\n",
       "    }\n",
       "\n",
       "    .dataframe tbody tr th {\n",
       "        vertical-align: top;\n",
       "    }\n",
       "\n",
       "    .dataframe thead th {\n",
       "        text-align: right;\n",
       "    }\n",
       "</style>\n",
       "<table border=\"1\" class=\"dataframe\">\n",
       "  <thead>\n",
       "    <tr style=\"text-align: right;\">\n",
       "      <th></th>\n",
       "      <th>BALANCE</th>\n",
       "      <th>BALANCE_FREQUENCY</th>\n",
       "      <th>PURCHASES</th>\n",
       "      <th>ONEOFF_PURCHASES</th>\n",
       "      <th>INSTALLMENTS_PURCHASES</th>\n",
       "      <th>CASH_ADVANCE</th>\n",
       "      <th>PURCHASES_FREQUENCY</th>\n",
       "      <th>ONEOFF_PURCHASES_FREQUENCY</th>\n",
       "      <th>PURCHASES_INSTALLMENTS_FREQUENCY</th>\n",
       "      <th>CASH_ADVANCE_FREQUENCY</th>\n",
       "      <th>CASH_ADVANCE_TRX</th>\n",
       "      <th>PURCHASES_TRX</th>\n",
       "      <th>CREDIT_LIMIT</th>\n",
       "      <th>PAYMENTS</th>\n",
       "      <th>MINIMUM_PAYMENTS</th>\n",
       "      <th>PRC_FULL_PAYMENT</th>\n",
       "      <th>TENURE</th>\n",
       "    </tr>\n",
       "  </thead>\n",
       "  <tbody>\n",
       "    <tr>\n",
       "      <th>0</th>\n",
       "      <td>703.368382</td>\n",
       "      <td>1.000000</td>\n",
       "      <td>64.00</td>\n",
       "      <td>0.0</td>\n",
       "      <td>64.00</td>\n",
       "      <td>0.00000</td>\n",
       "      <td>0.500000</td>\n",
       "      <td>0.0</td>\n",
       "      <td>0.416667</td>\n",
       "      <td>0.000000</td>\n",
       "      <td>0</td>\n",
       "      <td>6</td>\n",
       "      <td>2550.0</td>\n",
       "      <td>179.083715</td>\n",
       "      <td>212.119486</td>\n",
       "      <td>0.000</td>\n",
       "      <td>12</td>\n",
       "    </tr>\n",
       "    <tr>\n",
       "      <th>1</th>\n",
       "      <td>981.643409</td>\n",
       "      <td>0.818182</td>\n",
       "      <td>0.00</td>\n",
       "      <td>0.0</td>\n",
       "      <td>0.00</td>\n",
       "      <td>1462.32354</td>\n",
       "      <td>0.000000</td>\n",
       "      <td>0.0</td>\n",
       "      <td>0.000000</td>\n",
       "      <td>0.083333</td>\n",
       "      <td>2</td>\n",
       "      <td>0</td>\n",
       "      <td>1500.0</td>\n",
       "      <td>2008.971745</td>\n",
       "      <td>277.582819</td>\n",
       "      <td>0.125</td>\n",
       "      <td>12</td>\n",
       "    </tr>\n",
       "    <tr>\n",
       "      <th>2</th>\n",
       "      <td>6.420394</td>\n",
       "      <td>0.363636</td>\n",
       "      <td>136.72</td>\n",
       "      <td>0.0</td>\n",
       "      <td>136.72</td>\n",
       "      <td>0.00000</td>\n",
       "      <td>0.333333</td>\n",
       "      <td>0.0</td>\n",
       "      <td>0.333333</td>\n",
       "      <td>0.000000</td>\n",
       "      <td>0</td>\n",
       "      <td>4</td>\n",
       "      <td>2500.0</td>\n",
       "      <td>361.012758</td>\n",
       "      <td>169.705471</td>\n",
       "      <td>0.800</td>\n",
       "      <td>12</td>\n",
       "    </tr>\n",
       "  </tbody>\n",
       "</table>\n",
       "</div>"
      ],
      "text/plain": [
       "      BALANCE  BALANCE_FREQUENCY  PURCHASES  ONEOFF_PURCHASES  \\\n",
       "0  703.368382           1.000000      64.00               0.0   \n",
       "1  981.643409           0.818182       0.00               0.0   \n",
       "2    6.420394           0.363636     136.72               0.0   \n",
       "\n",
       "   INSTALLMENTS_PURCHASES  CASH_ADVANCE  PURCHASES_FREQUENCY  \\\n",
       "0                   64.00       0.00000             0.500000   \n",
       "1                    0.00    1462.32354             0.000000   \n",
       "2                  136.72       0.00000             0.333333   \n",
       "\n",
       "   ONEOFF_PURCHASES_FREQUENCY  PURCHASES_INSTALLMENTS_FREQUENCY  \\\n",
       "0                         0.0                          0.416667   \n",
       "1                         0.0                          0.000000   \n",
       "2                         0.0                          0.333333   \n",
       "\n",
       "   CASH_ADVANCE_FREQUENCY  CASH_ADVANCE_TRX  PURCHASES_TRX  CREDIT_LIMIT  \\\n",
       "0                0.000000                 0              6        2550.0   \n",
       "1                0.083333                 2              0        1500.0   \n",
       "2                0.000000                 0              4        2500.0   \n",
       "\n",
       "      PAYMENTS  MINIMUM_PAYMENTS  PRC_FULL_PAYMENT  TENURE  \n",
       "0   179.083715        212.119486             0.000      12  \n",
       "1  2008.971745        277.582819             0.125      12  \n",
       "2   361.012758        169.705471             0.800      12  "
      ]
     },
     "execution_count": 3,
     "metadata": {},
     "output_type": "execute_result"
    }
   ],
   "source": [
    "# create new data\n",
    "data_inf = {\n",
    "    'BALANCE': [703.368382, 981.643409, 6.420394],\n",
    "    'BALANCE_FREQUENCY': [1.0, 0.818182, 0.363636],\n",
    "    'PURCHASES': [64.0, 0.0, 136.72],\n",
    "    'ONEOFF_PURCHASES': [0.0, 0.0, 0.0],\n",
    "    'INSTALLMENTS_PURCHASES': [64.0, 0.0, 136.72],\n",
    "    'CASH_ADVANCE': [0.0, 1462.32354, 0.0],\n",
    "    'PURCHASES_FREQUENCY': [0.5, 0.0, 0.333333],\n",
    "    'ONEOFF_PURCHASES_FREQUENCY': [0.0, 0.0, 0.0],\n",
    "    'PURCHASES_INSTALLMENTS_FREQUENCY': [0.416667, 0.0, 0.333333],\n",
    "    'CASH_ADVANCE_FREQUENCY': [0.0, 0.083333, 0.0],\n",
    "    'CASH_ADVANCE_TRX': [0, 2, 0],\n",
    "    'PURCHASES_TRX': [6, 0, 4],\n",
    "    'CREDIT_LIMIT': [2550.0, 1500.0, 2500.0],\n",
    "    'PAYMENTS': [179.083715, 2008.971745, 361.012758],\n",
    "    'MINIMUM_PAYMENTS': [212.119486, 277.582819, 169.705471],\n",
    "    'PRC_FULL_PAYMENT': [0.0, 0.125, 0.8],\n",
    "    'TENURE': [12, 12, 12]\n",
    "}\n",
    "\n",
    "data_inf = pd.DataFrame(data_inf)\n",
    "data_inf"
   ]
  },
  {
   "cell_type": "markdown",
   "metadata": {},
   "source": [
    "# Split numerik dan kategorik"
   ]
  },
  {
   "cell_type": "code",
   "execution_count": 4,
   "metadata": {},
   "outputs": [],
   "source": [
    "# Split between numerical and categorical columns\n",
    "data_inf_num = data_inf[num_col]\n",
    "data_inf_cat = data_inf[cat_col]\n",
    "data_inf_num_nonmulti = data_inf[num_cols_nonmulti]"
   ]
  },
  {
   "cell_type": "code",
   "execution_count": 5,
   "metadata": {},
   "outputs": [
    {
     "data": {
      "text/html": [
       "<div>\n",
       "<style scoped>\n",
       "    .dataframe tbody tr th:only-of-type {\n",
       "        vertical-align: middle;\n",
       "    }\n",
       "\n",
       "    .dataframe tbody tr th {\n",
       "        vertical-align: top;\n",
       "    }\n",
       "\n",
       "    .dataframe thead th {\n",
       "        text-align: right;\n",
       "    }\n",
       "</style>\n",
       "<table border=\"1\" class=\"dataframe\">\n",
       "  <thead>\n",
       "    <tr style=\"text-align: right;\">\n",
       "      <th></th>\n",
       "      <th>TENURE</th>\n",
       "    </tr>\n",
       "  </thead>\n",
       "  <tbody>\n",
       "    <tr>\n",
       "      <th>0</th>\n",
       "      <td>12</td>\n",
       "    </tr>\n",
       "    <tr>\n",
       "      <th>1</th>\n",
       "      <td>12</td>\n",
       "    </tr>\n",
       "    <tr>\n",
       "      <th>2</th>\n",
       "      <td>12</td>\n",
       "    </tr>\n",
       "  </tbody>\n",
       "</table>\n",
       "</div>"
      ],
      "text/plain": [
       "   TENURE\n",
       "0      12\n",
       "1      12\n",
       "2      12"
      ]
     },
     "execution_count": 5,
     "metadata": {},
     "output_type": "execute_result"
    }
   ],
   "source": [
    "data_inf_cat"
   ]
  },
  {
   "cell_type": "code",
   "execution_count": 6,
   "metadata": {},
   "outputs": [
    {
     "data": {
      "text/html": [
       "<div>\n",
       "<style scoped>\n",
       "    .dataframe tbody tr th:only-of-type {\n",
       "        vertical-align: middle;\n",
       "    }\n",
       "\n",
       "    .dataframe tbody tr th {\n",
       "        vertical-align: top;\n",
       "    }\n",
       "\n",
       "    .dataframe thead th {\n",
       "        text-align: right;\n",
       "    }\n",
       "</style>\n",
       "<table border=\"1\" class=\"dataframe\">\n",
       "  <thead>\n",
       "    <tr style=\"text-align: right;\">\n",
       "      <th></th>\n",
       "      <th>BALANCE</th>\n",
       "      <th>BALANCE_FREQUENCY</th>\n",
       "      <th>PURCHASES</th>\n",
       "      <th>ONEOFF_PURCHASES</th>\n",
       "      <th>INSTALLMENTS_PURCHASES</th>\n",
       "      <th>CASH_ADVANCE</th>\n",
       "      <th>PURCHASES_FREQUENCY</th>\n",
       "      <th>ONEOFF_PURCHASES_FREQUENCY</th>\n",
       "      <th>PURCHASES_INSTALLMENTS_FREQUENCY</th>\n",
       "      <th>CASH_ADVANCE_FREQUENCY</th>\n",
       "      <th>CREDIT_LIMIT</th>\n",
       "      <th>PAYMENTS</th>\n",
       "      <th>MINIMUM_PAYMENTS</th>\n",
       "      <th>PRC_FULL_PAYMENT</th>\n",
       "      <th>PRC_FULL_PAYMENT</th>\n",
       "      <th>CASH_ADVANCE_TRX</th>\n",
       "      <th>PURCHASES_TRX</th>\n",
       "    </tr>\n",
       "  </thead>\n",
       "  <tbody>\n",
       "    <tr>\n",
       "      <th>0</th>\n",
       "      <td>703.368382</td>\n",
       "      <td>1.000000</td>\n",
       "      <td>64.00</td>\n",
       "      <td>0.0</td>\n",
       "      <td>64.00</td>\n",
       "      <td>0.00000</td>\n",
       "      <td>0.500000</td>\n",
       "      <td>0.0</td>\n",
       "      <td>0.416667</td>\n",
       "      <td>0.000000</td>\n",
       "      <td>2550.0</td>\n",
       "      <td>179.083715</td>\n",
       "      <td>212.119486</td>\n",
       "      <td>0.000</td>\n",
       "      <td>0.000</td>\n",
       "      <td>0</td>\n",
       "      <td>6</td>\n",
       "    </tr>\n",
       "    <tr>\n",
       "      <th>1</th>\n",
       "      <td>981.643409</td>\n",
       "      <td>0.818182</td>\n",
       "      <td>0.00</td>\n",
       "      <td>0.0</td>\n",
       "      <td>0.00</td>\n",
       "      <td>1462.32354</td>\n",
       "      <td>0.000000</td>\n",
       "      <td>0.0</td>\n",
       "      <td>0.000000</td>\n",
       "      <td>0.083333</td>\n",
       "      <td>1500.0</td>\n",
       "      <td>2008.971745</td>\n",
       "      <td>277.582819</td>\n",
       "      <td>0.125</td>\n",
       "      <td>0.125</td>\n",
       "      <td>2</td>\n",
       "      <td>0</td>\n",
       "    </tr>\n",
       "    <tr>\n",
       "      <th>2</th>\n",
       "      <td>6.420394</td>\n",
       "      <td>0.363636</td>\n",
       "      <td>136.72</td>\n",
       "      <td>0.0</td>\n",
       "      <td>136.72</td>\n",
       "      <td>0.00000</td>\n",
       "      <td>0.333333</td>\n",
       "      <td>0.0</td>\n",
       "      <td>0.333333</td>\n",
       "      <td>0.000000</td>\n",
       "      <td>2500.0</td>\n",
       "      <td>361.012758</td>\n",
       "      <td>169.705471</td>\n",
       "      <td>0.800</td>\n",
       "      <td>0.800</td>\n",
       "      <td>0</td>\n",
       "      <td>4</td>\n",
       "    </tr>\n",
       "  </tbody>\n",
       "</table>\n",
       "</div>"
      ],
      "text/plain": [
       "      BALANCE  BALANCE_FREQUENCY  PURCHASES  ONEOFF_PURCHASES  \\\n",
       "0  703.368382           1.000000      64.00               0.0   \n",
       "1  981.643409           0.818182       0.00               0.0   \n",
       "2    6.420394           0.363636     136.72               0.0   \n",
       "\n",
       "   INSTALLMENTS_PURCHASES  CASH_ADVANCE  PURCHASES_FREQUENCY  \\\n",
       "0                   64.00       0.00000             0.500000   \n",
       "1                    0.00    1462.32354             0.000000   \n",
       "2                  136.72       0.00000             0.333333   \n",
       "\n",
       "   ONEOFF_PURCHASES_FREQUENCY  PURCHASES_INSTALLMENTS_FREQUENCY  \\\n",
       "0                         0.0                          0.416667   \n",
       "1                         0.0                          0.000000   \n",
       "2                         0.0                          0.333333   \n",
       "\n",
       "   CASH_ADVANCE_FREQUENCY  CREDIT_LIMIT     PAYMENTS  MINIMUM_PAYMENTS  \\\n",
       "0                0.000000        2550.0   179.083715        212.119486   \n",
       "1                0.083333        1500.0  2008.971745        277.582819   \n",
       "2                0.000000        2500.0   361.012758        169.705471   \n",
       "\n",
       "   PRC_FULL_PAYMENT  PRC_FULL_PAYMENT  CASH_ADVANCE_TRX  PURCHASES_TRX  \n",
       "0             0.000             0.000                 0              6  \n",
       "1             0.125             0.125                 2              0  \n",
       "2             0.800             0.800                 0              4  "
      ]
     },
     "execution_count": 6,
     "metadata": {},
     "output_type": "execute_result"
    }
   ],
   "source": [
    "data_inf_num"
   ]
  },
  {
   "cell_type": "code",
   "execution_count": 7,
   "metadata": {},
   "outputs": [
    {
     "data": {
      "text/html": [
       "<div>\n",
       "<style scoped>\n",
       "    .dataframe tbody tr th:only-of-type {\n",
       "        vertical-align: middle;\n",
       "    }\n",
       "\n",
       "    .dataframe tbody tr th {\n",
       "        vertical-align: top;\n",
       "    }\n",
       "\n",
       "    .dataframe thead th {\n",
       "        text-align: right;\n",
       "    }\n",
       "</style>\n",
       "<table border=\"1\" class=\"dataframe\">\n",
       "  <thead>\n",
       "    <tr style=\"text-align: right;\">\n",
       "      <th></th>\n",
       "      <th>BALANCE</th>\n",
       "      <th>PURCHASES</th>\n",
       "      <th>ONEOFF_PURCHASES</th>\n",
       "      <th>INSTALLMENTS_PURCHASES</th>\n",
       "      <th>CASH_ADVANCE</th>\n",
       "      <th>ONEOFF_PURCHASES_FREQUENCY</th>\n",
       "      <th>CASH_ADVANCE_FREQUENCY</th>\n",
       "      <th>CREDIT_LIMIT</th>\n",
       "      <th>PAYMENTS</th>\n",
       "      <th>MINIMUM_PAYMENTS</th>\n",
       "      <th>PRC_FULL_PAYMENT</th>\n",
       "      <th>CASH_ADVANCE_TRX</th>\n",
       "      <th>PURCHASES_TRX</th>\n",
       "    </tr>\n",
       "  </thead>\n",
       "  <tbody>\n",
       "    <tr>\n",
       "      <th>0</th>\n",
       "      <td>703.368382</td>\n",
       "      <td>64.00</td>\n",
       "      <td>0.0</td>\n",
       "      <td>64.00</td>\n",
       "      <td>0.00000</td>\n",
       "      <td>0.0</td>\n",
       "      <td>0.000000</td>\n",
       "      <td>2550.0</td>\n",
       "      <td>179.083715</td>\n",
       "      <td>212.119486</td>\n",
       "      <td>0.000</td>\n",
       "      <td>0</td>\n",
       "      <td>6</td>\n",
       "    </tr>\n",
       "    <tr>\n",
       "      <th>1</th>\n",
       "      <td>981.643409</td>\n",
       "      <td>0.00</td>\n",
       "      <td>0.0</td>\n",
       "      <td>0.00</td>\n",
       "      <td>1462.32354</td>\n",
       "      <td>0.0</td>\n",
       "      <td>0.083333</td>\n",
       "      <td>1500.0</td>\n",
       "      <td>2008.971745</td>\n",
       "      <td>277.582819</td>\n",
       "      <td>0.125</td>\n",
       "      <td>2</td>\n",
       "      <td>0</td>\n",
       "    </tr>\n",
       "    <tr>\n",
       "      <th>2</th>\n",
       "      <td>6.420394</td>\n",
       "      <td>136.72</td>\n",
       "      <td>0.0</td>\n",
       "      <td>136.72</td>\n",
       "      <td>0.00000</td>\n",
       "      <td>0.0</td>\n",
       "      <td>0.000000</td>\n",
       "      <td>2500.0</td>\n",
       "      <td>361.012758</td>\n",
       "      <td>169.705471</td>\n",
       "      <td>0.800</td>\n",
       "      <td>0</td>\n",
       "      <td>4</td>\n",
       "    </tr>\n",
       "  </tbody>\n",
       "</table>\n",
       "</div>"
      ],
      "text/plain": [
       "      BALANCE  PURCHASES  ONEOFF_PURCHASES  INSTALLMENTS_PURCHASES  \\\n",
       "0  703.368382      64.00               0.0                   64.00   \n",
       "1  981.643409       0.00               0.0                    0.00   \n",
       "2    6.420394     136.72               0.0                  136.72   \n",
       "\n",
       "   CASH_ADVANCE  ONEOFF_PURCHASES_FREQUENCY  CASH_ADVANCE_FREQUENCY  \\\n",
       "0       0.00000                         0.0                0.000000   \n",
       "1    1462.32354                         0.0                0.083333   \n",
       "2       0.00000                         0.0                0.000000   \n",
       "\n",
       "   CREDIT_LIMIT     PAYMENTS  MINIMUM_PAYMENTS  PRC_FULL_PAYMENT  \\\n",
       "0        2550.0   179.083715        212.119486             0.000   \n",
       "1        1500.0  2008.971745        277.582819             0.125   \n",
       "2        2500.0   361.012758        169.705471             0.800   \n",
       "\n",
       "   CASH_ADVANCE_TRX  PURCHASES_TRX  \n",
       "0                 0              6  \n",
       "1                 2              0  \n",
       "2                 0              4  "
      ]
     },
     "execution_count": 7,
     "metadata": {},
     "output_type": "execute_result"
    }
   ],
   "source": [
    "data_inf_num_nonmulti"
   ]
  },
  {
   "cell_type": "markdown",
   "metadata": {},
   "source": [
    "Terdapat 3 kategori data, data_inf_num_nonmulti adalah data numerik yang telah difilter berdasarkan nilai VIF < 5 sehingga tidak termasuk multikolinearitas yang selanjutnya akan discaling dan PCA"
   ]
  },
  {
   "cell_type": "markdown",
   "metadata": {},
   "source": [
    "# Scaling"
   ]
  },
  {
   "cell_type": "code",
   "execution_count": 8,
   "metadata": {},
   "outputs": [],
   "source": [
    "# Feature scaling\n",
    "data_inf_num_scaled = scaler.transform(data_inf_num_nonmulti)"
   ]
  },
  {
   "cell_type": "markdown",
   "metadata": {},
   "source": [
    "# PCA"
   ]
  },
  {
   "cell_type": "code",
   "execution_count": 9,
   "metadata": {},
   "outputs": [],
   "source": [
    "# transform untuk data yang telah discaling\n",
    "df_scaled_pca = pca.transform(data_inf_num_scaled)"
   ]
  },
  {
   "cell_type": "markdown",
   "metadata": {},
   "source": [
    "# Predict & Insert"
   ]
  },
  {
   "cell_type": "code",
   "execution_count": 10,
   "metadata": {},
   "outputs": [
    {
     "name": "stderr",
     "output_type": "stream",
     "text": [
      "c:\\Users\\ASUS\\anaconda3\\Lib\\site-packages\\sklearn\\cluster\\_kmeans.py:1436: UserWarning: KMeans is known to have a memory leak on Windows with MKL, when there are less chunks than available threads. You can avoid it by setting the environment variable OMP_NUM_THREADS=1.\n",
      "  warnings.warn(\n"
     ]
    },
    {
     "data": {
      "text/plain": [
       "array([2, 0, 1])"
      ]
     },
     "execution_count": 10,
     "metadata": {},
     "output_type": "execute_result"
    }
   ],
   "source": [
    "# Predict new data inference using Linear Regression\n",
    "pred = model.fit_predict(df_scaled_pca)\n",
    "pred"
   ]
  },
  {
   "cell_type": "code",
   "execution_count": 11,
   "metadata": {},
   "outputs": [
    {
     "data": {
      "text/html": [
       "<div>\n",
       "<style scoped>\n",
       "    .dataframe tbody tr th:only-of-type {\n",
       "        vertical-align: middle;\n",
       "    }\n",
       "\n",
       "    .dataframe tbody tr th {\n",
       "        vertical-align: top;\n",
       "    }\n",
       "\n",
       "    .dataframe thead th {\n",
       "        text-align: right;\n",
       "    }\n",
       "</style>\n",
       "<table border=\"1\" class=\"dataframe\">\n",
       "  <thead>\n",
       "    <tr style=\"text-align: right;\">\n",
       "      <th></th>\n",
       "      <th>BALANCE</th>\n",
       "      <th>BALANCE_FREQUENCY</th>\n",
       "      <th>PURCHASES</th>\n",
       "      <th>ONEOFF_PURCHASES</th>\n",
       "      <th>INSTALLMENTS_PURCHASES</th>\n",
       "      <th>CASH_ADVANCE</th>\n",
       "      <th>PURCHASES_FREQUENCY</th>\n",
       "      <th>ONEOFF_PURCHASES_FREQUENCY</th>\n",
       "      <th>PURCHASES_INSTALLMENTS_FREQUENCY</th>\n",
       "      <th>CASH_ADVANCE_FREQUENCY</th>\n",
       "      <th>CASH_ADVANCE_TRX</th>\n",
       "      <th>PURCHASES_TRX</th>\n",
       "      <th>CREDIT_LIMIT</th>\n",
       "      <th>PAYMENTS</th>\n",
       "      <th>MINIMUM_PAYMENTS</th>\n",
       "      <th>PRC_FULL_PAYMENT</th>\n",
       "      <th>TENURE</th>\n",
       "      <th>cluster</th>\n",
       "    </tr>\n",
       "  </thead>\n",
       "  <tbody>\n",
       "    <tr>\n",
       "      <th>0</th>\n",
       "      <td>703.368382</td>\n",
       "      <td>1.000000</td>\n",
       "      <td>64.00</td>\n",
       "      <td>0.0</td>\n",
       "      <td>64.00</td>\n",
       "      <td>0.00000</td>\n",
       "      <td>0.500000</td>\n",
       "      <td>0.0</td>\n",
       "      <td>0.416667</td>\n",
       "      <td>0.000000</td>\n",
       "      <td>0</td>\n",
       "      <td>6</td>\n",
       "      <td>2550.0</td>\n",
       "      <td>179.083715</td>\n",
       "      <td>212.119486</td>\n",
       "      <td>0.000</td>\n",
       "      <td>12</td>\n",
       "      <td>2</td>\n",
       "    </tr>\n",
       "    <tr>\n",
       "      <th>1</th>\n",
       "      <td>981.643409</td>\n",
       "      <td>0.818182</td>\n",
       "      <td>0.00</td>\n",
       "      <td>0.0</td>\n",
       "      <td>0.00</td>\n",
       "      <td>1462.32354</td>\n",
       "      <td>0.000000</td>\n",
       "      <td>0.0</td>\n",
       "      <td>0.000000</td>\n",
       "      <td>0.083333</td>\n",
       "      <td>2</td>\n",
       "      <td>0</td>\n",
       "      <td>1500.0</td>\n",
       "      <td>2008.971745</td>\n",
       "      <td>277.582819</td>\n",
       "      <td>0.125</td>\n",
       "      <td>12</td>\n",
       "      <td>0</td>\n",
       "    </tr>\n",
       "    <tr>\n",
       "      <th>2</th>\n",
       "      <td>6.420394</td>\n",
       "      <td>0.363636</td>\n",
       "      <td>136.72</td>\n",
       "      <td>0.0</td>\n",
       "      <td>136.72</td>\n",
       "      <td>0.00000</td>\n",
       "      <td>0.333333</td>\n",
       "      <td>0.0</td>\n",
       "      <td>0.333333</td>\n",
       "      <td>0.000000</td>\n",
       "      <td>0</td>\n",
       "      <td>4</td>\n",
       "      <td>2500.0</td>\n",
       "      <td>361.012758</td>\n",
       "      <td>169.705471</td>\n",
       "      <td>0.800</td>\n",
       "      <td>12</td>\n",
       "      <td>1</td>\n",
       "    </tr>\n",
       "  </tbody>\n",
       "</table>\n",
       "</div>"
      ],
      "text/plain": [
       "      BALANCE  BALANCE_FREQUENCY  PURCHASES  ONEOFF_PURCHASES  \\\n",
       "0  703.368382           1.000000      64.00               0.0   \n",
       "1  981.643409           0.818182       0.00               0.0   \n",
       "2    6.420394           0.363636     136.72               0.0   \n",
       "\n",
       "   INSTALLMENTS_PURCHASES  CASH_ADVANCE  PURCHASES_FREQUENCY  \\\n",
       "0                   64.00       0.00000             0.500000   \n",
       "1                    0.00    1462.32354             0.000000   \n",
       "2                  136.72       0.00000             0.333333   \n",
       "\n",
       "   ONEOFF_PURCHASES_FREQUENCY  PURCHASES_INSTALLMENTS_FREQUENCY  \\\n",
       "0                         0.0                          0.416667   \n",
       "1                         0.0                          0.000000   \n",
       "2                         0.0                          0.333333   \n",
       "\n",
       "   CASH_ADVANCE_FREQUENCY  CASH_ADVANCE_TRX  PURCHASES_TRX  CREDIT_LIMIT  \\\n",
       "0                0.000000                 0              6        2550.0   \n",
       "1                0.083333                 2              0        1500.0   \n",
       "2                0.000000                 0              4        2500.0   \n",
       "\n",
       "      PAYMENTS  MINIMUM_PAYMENTS  PRC_FULL_PAYMENT  TENURE  cluster  \n",
       "0   179.083715        212.119486             0.000      12        2  \n",
       "1  2008.971745        277.582819             0.125      12        0  \n",
       "2   361.012758        169.705471             0.800      12        1  "
      ]
     },
     "execution_count": 11,
     "metadata": {},
     "output_type": "execute_result"
    }
   ],
   "source": [
    "# insert hasil cluster pada data_inf\n",
    "data_inf['cluster'] = pred\n",
    "data_inf"
   ]
  },
  {
   "cell_type": "markdown",
   "metadata": {},
   "source": [
    "# Melihat Karakteristik Tiap Cluster"
   ]
  },
  {
   "cell_type": "code",
   "execution_count": 12,
   "metadata": {},
   "outputs": [
    {
     "name": "stdout",
     "output_type": "stream",
     "text": [
      "         Balance  Purchases  Cash Advance  Payments  Minimum Payments  \\\n",
      "cluster                                                                 \n",
      "0         981.64       0.00       1462.32   2008.97            277.58   \n",
      "1           6.42     136.72          0.00    361.01            169.71   \n",
      "2         703.37      64.00          0.00    179.08            212.12   \n",
      "\n",
      "         Credit Limit  Tenure  \n",
      "cluster                        \n",
      "0              1500.0    12.0  \n",
      "1              2500.0    12.0  \n",
      "2              2550.0    12.0  \n"
     ]
    }
   ],
   "source": [
    "# Membuat DataFrame dengan mean per cluster\n",
    "cluster_means = data_inf.groupby('cluster').mean().round(2)[['BALANCE', 'PURCHASES', 'CASH_ADVANCE', 'PAYMENTS', 'MINIMUM_PAYMENTS', 'CREDIT_LIMIT', 'TENURE']]\n",
    "\n",
    "# Menambahkan header untuk setiap kolom\n",
    "cluster_means.columns = ['Balance', 'Purchases', 'Cash Advance', 'Payments', 'Minimum Payments', 'Credit Limit', 'Tenure']\n",
    "\n",
    "# Menampilkan DataFrame sebagai tabel\n",
    "print(cluster_means)"
   ]
  },
  {
   "cell_type": "markdown",
   "metadata": {},
   "source": [
    "# Kesimpulan"
   ]
  },
  {
   "cell_type": "markdown",
   "metadata": {},
   "source": [
    "Dari hasil tersebut, terdapat beberapa kemiripan yaitu:\n",
    "- Purchases paling rendah di cluster 0\n",
    "- Cash Advance paling tinggi di cluster 0\n",
    "\n",
    "Namun untuk feature lainnya kurang sama dengan data asli sehingga perlu diimprove lebih lanjut."
   ]
  }
 ],
 "metadata": {
  "kernelspec": {
   "display_name": "base",
   "language": "python",
   "name": "python3"
  },
  "language_info": {
   "codemirror_mode": {
    "name": "ipython",
    "version": 3
   },
   "file_extension": ".py",
   "mimetype": "text/x-python",
   "name": "python",
   "nbconvert_exporter": "python",
   "pygments_lexer": "ipython3",
   "version": "3.11.5"
  }
 },
 "nbformat": 4,
 "nbformat_minor": 2
}
